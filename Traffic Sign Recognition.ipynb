{
 "cells": [
  {
   "cell_type": "markdown",
   "metadata": {},
   "source": [
    "### Importing the librairies"
   ]
  },
  {
   "cell_type": "code",
   "execution_count": 10,
   "metadata": {},
   "outputs": [],
   "source": [
    "from ultralytics import YOLO\n",
    "import shutil\n",
    "import os\n",
    "from random import choice\n",
    "import cv2\n",
    "import matplotlib.pyplot as plt"
   ]
  },
  {
   "cell_type": "markdown",
   "metadata": {},
   "source": [
    "### Preparing the traffic sign dataset"
   ]
  },
  {
   "cell_type": "code",
   "execution_count": 11,
   "metadata": {},
   "outputs": [
    {
     "name": "stdout",
     "output_type": "stream",
     "text": [
      "training images are :  592\n",
      "validation images are :  148\n",
      "total images are :  741\n"
     ]
    }
   ],
   "source": [
    "# arrays to store file names\n",
    "imgs = []\n",
    "xmls = []\n",
    "\n",
    "# setup directory names\n",
    "crs_path = \"./raw_dataset\"\n",
    "\n",
    "train_ratio = 0.8\n",
    "val_ratio = 0.2\n",
    "\n",
    "# total count of imgs\n",
    "total_img_count = len(os.listdir(crs_path))/2\n",
    "\n",
    "# sorting count of imgs\n",
    "for (dirname,dirs, files) in os.walk(crs_path):\n",
    "#     print(files)\n",
    "    for filename in files:\n",
    "#         print(\"hello\")\n",
    "        if filename.endswith(\".txt\"):\n",
    "            xmls.append(filename)\n",
    "        else:\n",
    "            imgs.append(filename)\n",
    "\n",
    "# counting range for cycles\n",
    "count_for_train = int(len(imgs)*train_ratio)\n",
    "count_for_val = int(len(imgs)*val_ratio)\n",
    "print(\"training images are : \",count_for_train)\n",
    "print(\"validation images are : \",count_for_val)\n",
    "print(\"total images are : \",len(imgs))"
   ]
  },
  {
   "cell_type": "code",
   "execution_count": 12,
   "metadata": {},
   "outputs": [],
   "source": [
    "train_image_path = \"./dataset/images/train\"\n",
    "train_label_path = \"./dataset/labels/train\"\n",
    "val_image_path = \"./dataset/images/val\"\n",
    "val_label_path = \"./dataset/labels/val\"\n",
    "\n",
    "if not os.path.isdir(train_image_path):\n",
    "    os.makedirs(train_image_path)\n",
    "if not os.path.isdir(train_label_path):\n",
    "    os.makedirs(train_label_path)\n",
    "if not os.path.isdir(val_image_path):\n",
    "    os.makedirs(val_image_path)\n",
    "if not os.path.isdir(val_label_path):\n",
    "    os.makedirs(val_label_path)\n",
    "\n",
    "# cycle for train dir\n",
    "for x in range(count_for_train):\n",
    "    file_jpg = choice(imgs)\n",
    "    file_xml = file_jpg[:-4] + \".txt\"\n",
    "    \n",
    "    shutil.copy(os.path.join(crs_path,file_jpg),os.path.join(train_image_path,file_jpg))\n",
    "    shutil.copy(os.path.join(crs_path,file_xml),os.path.join(train_label_path,file_xml))\n",
    "    \n",
    "    imgs.remove(file_jpg)\n",
    "    xmls.remove(file_xml)\n",
    "    \n",
    "# cycle for test dir\n",
    "for x in range(count_for_val):\n",
    "    file_jpg = choice(imgs)\n",
    "    file_xml = file_jpg[:-4] + \".txt\"\n",
    "    \n",
    "    shutil.copy(os.path.join(crs_path,file_jpg),os.path.join(val_image_path,file_jpg))\n",
    "    shutil.copy(os.path.join(crs_path,file_xml),os.path.join(val_label_path,file_xml))\n",
    "    \n",
    "    imgs.remove(file_jpg)\n",
    "    xmls.remove(file_xml)\n",
    "\n",
    "# rest of files\n",
    "for x in imgs:\n",
    "    file_jpg = x\n",
    "    file_xml = file_jpg[:-4] + \".txt\"\n",
    "    \n",
    "    shutil.copy(os.path.join(crs_path,file_jpg),os.path.join(val_image_path,file_jpg))\n",
    "    shutil.copy(os.path.join(crs_path,file_xml),os.path.join(val_label_path,file_xml))"
   ]
  },
  {
   "cell_type": "markdown",
   "metadata": {},
   "source": [
    "### Training the YoloV8 model on custom traffic signs dataset"
   ]
  },
  {
   "cell_type": "code",
   "execution_count": 13,
   "metadata": {},
   "outputs": [],
   "source": [
    "# load model.pt\n",
    "model = YOLO(model=\"model.pt\")"
   ]
  },
  {
   "cell_type": "code",
   "execution_count": 14,
   "metadata": {},
   "outputs": [
    {
     "name": "stdout",
     "output_type": "stream",
     "text": [
      "Ultralytics 8.3.85  Python-3.11.11 torch-2.6.0+cpu CPU (12th Gen Intel Core(TM) i7-12650H)\n",
      "\u001b[34m\u001b[1mengine\\trainer: \u001b[0mtask=detect, mode=train, model=model.pt, data=./dataset/dataset.yaml, epochs=3, time=None, patience=100, batch=16, imgsz=640, save=True, save_period=-1, cache=False, device=None, workers=8, project=None, name=train3, exist_ok=False, pretrained=True, optimizer=auto, verbose=True, seed=0, deterministic=True, single_cls=False, rect=False, cos_lr=False, close_mosaic=10, resume=False, amp=True, fraction=1.0, profile=False, freeze=None, multi_scale=False, overlap_mask=True, mask_ratio=4, dropout=0.0, val=True, split=val, save_json=False, save_hybrid=False, conf=None, iou=0.7, max_det=300, half=False, dnn=False, plots=True, source=None, vid_stride=1, stream_buffer=False, visualize=False, augment=False, agnostic_nms=False, classes=None, retina_masks=False, embed=None, show=False, save_frames=False, save_txt=False, save_conf=False, save_crop=False, show_labels=True, show_conf=True, show_boxes=True, line_width=None, format=torchscript, keras=False, optimize=False, int8=False, dynamic=False, simplify=True, opset=None, workspace=None, nms=False, lr0=0.01, lrf=0.01, momentum=0.937, weight_decay=0.0005, warmup_epochs=3.0, warmup_momentum=0.8, warmup_bias_lr=0.1, box=7.5, cls=0.5, dfl=1.5, pose=12.0, kobj=1.0, nbs=64, hsv_h=0.015, hsv_s=0.7, hsv_v=0.4, degrees=0.0, translate=0.1, scale=0.5, shear=0.0, perspective=0.0, flipud=0.0, fliplr=0.5, bgr=0.0, mosaic=1.0, mixup=0.0, copy_paste=0.0, copy_paste_mode=flip, auto_augment=randaugment, erasing=0.4, crop_fraction=1.0, cfg=None, tracker=botsort.yaml, save_dir=runs\\detect\\train3\n",
      "\n",
      "                   from  n    params  module                                       arguments                     \n",
      "  0                  -1  1       464  ultralytics.nn.modules.conv.Conv             [3, 16, 3, 2]                 \n",
      "  1                  -1  1      4672  ultralytics.nn.modules.conv.Conv             [16, 32, 3, 2]                \n",
      "  2                  -1  1      7360  ultralytics.nn.modules.block.C2f             [32, 32, 1, True]             \n",
      "  3                  -1  1     18560  ultralytics.nn.modules.conv.Conv             [32, 64, 3, 2]                \n",
      "  4                  -1  2     49664  ultralytics.nn.modules.block.C2f             [64, 64, 2, True]             \n",
      "  5                  -1  1     73984  ultralytics.nn.modules.conv.Conv             [64, 128, 3, 2]               \n",
      "  6                  -1  2    197632  ultralytics.nn.modules.block.C2f             [128, 128, 2, True]           \n",
      "  7                  -1  1    295424  ultralytics.nn.modules.conv.Conv             [128, 256, 3, 2]              \n",
      "  8                  -1  1    460288  ultralytics.nn.modules.block.C2f             [256, 256, 1, True]           \n",
      "  9                  -1  1    164608  ultralytics.nn.modules.block.SPPF            [256, 256, 5]                 \n",
      " 10                  -1  1         0  torch.nn.modules.upsampling.Upsample         [None, 2, 'nearest']          \n",
      " 11             [-1, 6]  1         0  ultralytics.nn.modules.conv.Concat           [1]                           \n",
      " 12                  -1  1    148224  ultralytics.nn.modules.block.C2f             [384, 128, 1]                 \n",
      " 13                  -1  1         0  torch.nn.modules.upsampling.Upsample         [None, 2, 'nearest']          \n",
      " 14             [-1, 4]  1         0  ultralytics.nn.modules.conv.Concat           [1]                           \n",
      " 15                  -1  1     37248  ultralytics.nn.modules.block.C2f             [192, 64, 1]                  \n",
      " 16                  -1  1     36992  ultralytics.nn.modules.conv.Conv             [64, 64, 3, 2]                \n",
      " 17            [-1, 12]  1         0  ultralytics.nn.modules.conv.Concat           [1]                           \n",
      " 18                  -1  1    123648  ultralytics.nn.modules.block.C2f             [192, 128, 1]                 \n",
      " 19                  -1  1    147712  ultralytics.nn.modules.conv.Conv             [128, 128, 3, 2]              \n",
      " 20             [-1, 9]  1         0  ultralytics.nn.modules.conv.Concat           [1]                           \n",
      " 21                  -1  1    493056  ultralytics.nn.modules.block.C2f             [384, 256, 1]                 \n",
      " 22        [15, 18, 21]  1    752092  ultralytics.nn.modules.head.Detect           [4, [64, 128, 256]]           \n",
      "Model summary: 129 layers, 3,011,628 parameters, 3,011,612 gradients, 8.2 GFLOPs\n",
      "\n",
      "Transferred 70/355 items from pretrained weights\n",
      "Freezing layer 'model.22.dfl.conv.weight'\n"
     ]
    },
    {
     "name": "stderr",
     "output_type": "stream",
     "text": [
      "\u001b[34m\u001b[1mtrain: \u001b[0mScanning C:\\Users\\bouhe\\Desktop\\M2\\S2\\ComputerVision\\Jetpro\\Trafic-Sign-Recognition-main\\dataset\\labels\\train.cache... 741 images, 0 backgrounds, 0 corrupt: 100%|██████████| 741/741 [00:00<?, ?it/s]"
     ]
    },
    {
     "name": "stdout",
     "output_type": "stream",
     "text": [
      "\u001b[34m\u001b[1mtrain: \u001b[0mWARNING  C:\\Users\\bouhe\\Desktop\\M2\\S2\\ComputerVision\\Jetpro\\Trafic-Sign-Recognition-main\\dataset\\images\\train\\00340.jpg: 1 duplicate labels removed\n"
     ]
    },
    {
     "name": "stderr",
     "output_type": "stream",
     "text": [
      "\n",
      "\u001b[34m\u001b[1mval: \u001b[0mScanning C:\\Users\\bouhe\\Desktop\\M2\\S2\\ComputerVision\\Jetpro\\Trafic-Sign-Recognition-main\\dataset\\labels\\val... 716 images, 0 backgrounds, 0 corrupt: 100%|██████████| 716/716 [00:01<00:00, 685.53it/s]"
     ]
    },
    {
     "name": "stdout",
     "output_type": "stream",
     "text": [
      "\u001b[34m\u001b[1mval: \u001b[0mWARNING  C:\\Users\\bouhe\\Desktop\\M2\\S2\\ComputerVision\\Jetpro\\Trafic-Sign-Recognition-main\\dataset\\images\\val\\00340.jpg: 1 duplicate labels removed\n",
      "\u001b[34m\u001b[1mval: \u001b[0mNew cache created: C:\\Users\\bouhe\\Desktop\\M2\\S2\\ComputerVision\\Jetpro\\Trafic-Sign-Recognition-main\\dataset\\labels\\val.cache\n",
      "Plotting labels to runs\\detect\\train3\\labels.jpg... \n"
     ]
    },
    {
     "name": "stderr",
     "output_type": "stream",
     "text": [
      "\n"
     ]
    },
    {
     "name": "stdout",
     "output_type": "stream",
     "text": [
      "\u001b[34m\u001b[1moptimizer:\u001b[0m 'optimizer=auto' found, ignoring 'lr0=0.01' and 'momentum=0.937' and determining best 'optimizer', 'lr0' and 'momentum' automatically... \n",
      "\u001b[34m\u001b[1moptimizer:\u001b[0m AdamW(lr=0.00125, momentum=0.9) with parameter groups 57 weight(decay=0.0), 64 weight(decay=0.0005), 63 bias(decay=0.0)\n",
      "Image sizes 640 train, 640 val\n",
      "Using 0 dataloader workers\n",
      "Logging results to \u001b[1mruns\\detect\\train3\u001b[0m\n",
      "Starting training for 3 epochs...\n",
      "\n",
      "      Epoch    GPU_mem   box_loss   cls_loss   dfl_loss  Instances       Size\n"
     ]
    },
    {
     "name": "stderr",
     "output_type": "stream",
     "text": [
      "        1/3         0G      1.131      1.708     0.8767         15        640: 100%|██████████| 47/47 [02:35<00:00,  3.31s/it]\n",
      "                 Class     Images  Instances      Box(P          R      mAP50  mAP50-95): 100%|██████████| 23/23 [00:35<00:00,  1.55s/it]"
     ]
    },
    {
     "name": "stdout",
     "output_type": "stream",
     "text": [
      "                   all        716       1172      0.831      0.658      0.765      0.548\n"
     ]
    },
    {
     "name": "stderr",
     "output_type": "stream",
     "text": [
      "\n"
     ]
    },
    {
     "name": "stdout",
     "output_type": "stream",
     "text": [
      "\n",
      "      Epoch    GPU_mem   box_loss   cls_loss   dfl_loss  Instances       Size\n"
     ]
    },
    {
     "name": "stderr",
     "output_type": "stream",
     "text": [
      "        2/3         0G      1.127      1.642     0.8754          9        640: 100%|██████████| 47/47 [02:26<00:00,  3.11s/it]\n",
      "                 Class     Images  Instances      Box(P          R      mAP50  mAP50-95): 100%|██████████| 23/23 [00:35<00:00,  1.55s/it]"
     ]
    },
    {
     "name": "stdout",
     "output_type": "stream",
     "text": [
      "                   all        716       1172      0.882      0.678      0.788      0.571\n"
     ]
    },
    {
     "name": "stderr",
     "output_type": "stream",
     "text": [
      "\n"
     ]
    },
    {
     "name": "stdout",
     "output_type": "stream",
     "text": [
      "\n",
      "      Epoch    GPU_mem   box_loss   cls_loss   dfl_loss  Instances       Size\n"
     ]
    },
    {
     "name": "stderr",
     "output_type": "stream",
     "text": [
      "        3/3         0G      1.094      1.483      0.871         15        640: 100%|██████████| 47/47 [02:27<00:00,  3.14s/it]\n",
      "                 Class     Images  Instances      Box(P          R      mAP50  mAP50-95): 100%|██████████| 23/23 [00:35<00:00,  1.55s/it]"
     ]
    },
    {
     "name": "stdout",
     "output_type": "stream",
     "text": [
      "                   all        716       1172      0.855      0.713       0.81      0.579\n"
     ]
    },
    {
     "name": "stderr",
     "output_type": "stream",
     "text": [
      "\n"
     ]
    },
    {
     "name": "stdout",
     "output_type": "stream",
     "text": [
      "\n",
      "3 epochs completed in 0.155 hours.\n",
      "Optimizer stripped from runs\\detect\\train3\\weights\\last.pt, 6.2MB\n",
      "Optimizer stripped from runs\\detect\\train3\\weights\\best.pt, 6.2MB\n",
      "\n",
      "Validating runs\\detect\\train3\\weights\\best.pt...\n",
      "Ultralytics 8.3.85  Python-3.11.11 torch-2.6.0+cpu CPU (12th Gen Intel Core(TM) i7-12650H)\n",
      "Model summary (fused): 72 layers, 3,006,428 parameters, 0 gradients, 8.1 GFLOPs\n"
     ]
    },
    {
     "name": "stderr",
     "output_type": "stream",
     "text": [
      "                 Class     Images  Instances      Box(P          R      mAP50  mAP50-95): 100%|██████████| 23/23 [00:30<00:00,  1.32s/it]\n"
     ]
    },
    {
     "name": "stdout",
     "output_type": "stream",
     "text": [
      "                   all        716       1172      0.855      0.713       0.81      0.579\n",
      "           speed limit        370        544      0.869      0.821      0.904      0.663\n",
      "                 yield        170        210      0.976      0.767      0.885      0.639\n",
      "             mandatory        136        157      0.807      0.637      0.728      0.518\n",
      "                 other        206        261      0.767      0.628      0.723      0.496\n",
      "Speed: 0.7ms preprocess, 32.5ms inference, 0.0ms loss, 1.7ms postprocess per image\n",
      "Results saved to \u001b[1mruns\\detect\\train3\u001b[0m\n",
      "Ultralytics 8.3.85  Python-3.11.11 torch-2.6.0+cpu CPU (12th Gen Intel Core(TM) i7-12650H)\n",
      "Model summary (fused): 72 layers, 3,006,428 parameters, 0 gradients, 8.1 GFLOPs\n"
     ]
    },
    {
     "name": "stderr",
     "output_type": "stream",
     "text": [
      "\u001b[34m\u001b[1mval: \u001b[0mScanning C:\\Users\\bouhe\\Desktop\\M2\\S2\\ComputerVision\\Jetpro\\Trafic-Sign-Recognition-main\\dataset\\labels\\val.cache... 716 images, 0 backgrounds, 0 corrupt: 100%|██████████| 716/716 [00:00<?, ?it/s]"
     ]
    },
    {
     "name": "stdout",
     "output_type": "stream",
     "text": [
      "\u001b[34m\u001b[1mval: \u001b[0mWARNING  C:\\Users\\bouhe\\Desktop\\M2\\S2\\ComputerVision\\Jetpro\\Trafic-Sign-Recognition-main\\dataset\\images\\val\\00340.jpg: 1 duplicate labels removed\n"
     ]
    },
    {
     "name": "stderr",
     "output_type": "stream",
     "text": [
      "\n",
      "                 Class     Images  Instances      Box(P          R      mAP50  mAP50-95): 100%|██████████| 45/45 [00:28<00:00,  1.56it/s]\n"
     ]
    },
    {
     "name": "stdout",
     "output_type": "stream",
     "text": [
      "                   all        716       1172      0.855      0.713       0.81      0.579\n",
      "           speed limit        370        544      0.869      0.821      0.904      0.663\n",
      "                 yield        170        210      0.976      0.767      0.885      0.639\n",
      "             mandatory        136        157      0.807      0.637      0.728      0.518\n",
      "                 other        206        261      0.767      0.628      0.723      0.496\n",
      "Speed: 0.5ms preprocess, 30.3ms inference, 0.0ms loss, 1.7ms postprocess per image\n",
      "Results saved to \u001b[1mruns\\detect\\train32\u001b[0m\n"
     ]
    }
   ],
   "source": [
    "# Train using gpu\n",
    "model.train(data='./dataset/dataset.yaml', epochs=3)\n",
    "metrics = model.val()"
   ]
  },
  {
   "cell_type": "code",
   "execution_count": 18,
   "metadata": {},
   "outputs": [],
   "source": [
    "# Save the model as \"model.pt\"\n",
    "model.save(\"model.pt\")"
   ]
  },
  {
   "cell_type": "markdown",
   "metadata": {},
   "source": [
    "### Test the model on new traffic signs"
   ]
  },
  {
   "cell_type": "code",
   "execution_count": 19,
   "metadata": {},
   "outputs": [
    {
     "name": "stdout",
     "output_type": "stream",
     "text": [
      "\n",
      "0: 384x640 2 mandatorys, 1 other, 30.7ms\n",
      "1: 384x640 1 speed limit, 30.7ms\n",
      "2: 384x640 1 speed limit, 1 other, 30.7ms\n",
      "Speed: 1.7ms preprocess, 30.7ms inference, 0.5ms postprocess per image at shape (1, 3, 384, 640)\n"
     ]
    }
   ],
   "source": [
    "# Run batched inference on a list of images\n",
    "results = model(['./dataset/images/val/00001.jpg',\n",
    "                  './dataset/images/val/00006.jpg',\n",
    "                  './dataset/images/val/00008.jpg'])\n",
    "\n",
    "# Process results list\n",
    "for i, result in enumerate(results):\n",
    "    result.save(filename='result_'+str(i)+'.jpg')  # save to disk"
   ]
  },
  {
   "cell_type": "markdown",
   "metadata": {},
   "source": [
    "### Display the images"
   ]
  },
  {
   "cell_type": "code",
   "execution_count": 20,
   "metadata": {},
   "outputs": [
    {
     "data": {
      "text/plain": [
       "<Figure size 1500x1500 with 3 Axes>"
      ]
     },
     "metadata": {},
     "output_type": "display_data"
    }
   ],
   "source": [
    "image1 = cv2.imread(\"result_0.jpg\")\n",
    "image2 = cv2.imread(\"result_1.jpg\")\n",
    "image3 = cv2.imread(\"result_2.jpg\")\n",
    "\n",
    "fig, ax = plt.subplots(3, 1, figsize=(15, 15))\n",
    "ax[0].imshow(cv2.cvtColor(image1, cv2.COLOR_BGR2RGB))\n",
    "ax[1].imshow(cv2.cvtColor(image2, cv2.COLOR_BGR2RGB))\n",
    "ax[2].imshow(cv2.cvtColor(image3, cv2.COLOR_BGR2RGB))\n",
    "for ax in ax:\n",
    "    ax.axis('off')\n",
    "plt.show()"
   ]
  }
 ],
 "metadata": {
  "kernelspec": {
   "display_name": "IACV",
   "language": "python",
   "name": "python3"
  },
  "language_info": {
   "codemirror_mode": {
    "name": "ipython",
    "version": 3
   },
   "file_extension": ".py",
   "mimetype": "text/x-python",
   "name": "python",
   "nbconvert_exporter": "python",
   "pygments_lexer": "ipython3",
   "version": "3.11.11"
  }
 },
 "nbformat": 4,
 "nbformat_minor": 2
}
